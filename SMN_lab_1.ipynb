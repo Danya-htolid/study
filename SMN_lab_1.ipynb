{
  "nbformat": 4,
  "nbformat_minor": 0,
  "metadata": {
    "colab": {
      "name": "SMN_lab_1",
      "provenance": [],
      "collapsed_sections": [],
      "authorship_tag": "ABX9TyNpkc2qNApnBBE5OJlB7w7O",
      "include_colab_link": true
    },
    "kernelspec": {
      "name": "python3",
      "display_name": "Python 3"
    },
    "language_info": {
      "name": "python"
    }
  },
  "cells": [
    {
      "cell_type": "markdown",
      "metadata": {
        "id": "view-in-github",
        "colab_type": "text"
      },
      "source": [
        "<a href=\"https://colab.research.google.com/github/Danya-htolid/study/blob/master/SMN_lab_1.ipynb\" target=\"_parent\"><img src=\"https://colab.research.google.com/assets/colab-badge.svg\" alt=\"Open In Colab\"/></a>"
      ]
    },
    {
      "cell_type": "code",
      "metadata": {
        "id": "OUBQedkmJEW1",
        "colab": {
          "base_uri": "https://localhost:8080/",
          "height": 435
        },
        "outputId": "6c964079-d7ea-4cc4-a309-d5dd376ced2f"
      },
      "source": [
        "import matplotlib.pyplot as plt \n",
        "import numpy as np\n",
        "import statistics as st\n",
        "from scipy import stats\n",
        "center1 = (50, 60)\n",
        "center2 = (80, 20)\n",
        "distance = 20\n",
        "\n",
        "x1 = np.random.uniform(center1[0], center1[0] + distance, size=(100,))\n",
        "y1 = np.random.normal(center1[1], distance, size=(100,)) \n",
        "\n",
        "x2 = np.random.uniform(center2[0], center2[0] + distance, size=(100,))\n",
        "y2 = np.random.normal(center2[1], distance, size=(100,)) \n",
        "\n",
        "plt.scatter(x1, y1)\n",
        "plt.scatter(x2, y2)\n",
        "plt.show()\n",
        "print (\"Середнє\")\n",
        "print(\"x1 \",sum(x1) / len(x1))\n",
        "print(\"y1 \",sum(y1) / len(y1))\n",
        "print(\"x2 \",sum(x2) / len(x2))\n",
        "print(\"y2 \",sum(y2) / len(y2))\n",
        "print (\"Медіана\")\n",
        "print(\"x1 \",st.median(x1))\n",
        "print(\"y1 \",st.median(y1))\n",
        "print(\"x2 \",st.median(x2))\n",
        "print(\"y2 \",st.median(y2))"
      ],
      "execution_count": 19,
      "outputs": [
        {
          "output_type": "display_data",
          "data": {
            "image/png": "[encoded data removed]",
            "text/plain": [
              "<Figure size 432x288 with 1 Axes>"
            ]
          },
          "metadata": {
            "needs_background": "light"
          }
        },
        {
          "output_type": "stream",
          "name": "stdout",
          "text": [
            "Середнє\n",
            "x1  59.56734674032468\n",
            "y1  60.04617446722738\n",
            "x2  90.01461821637615\n",
            "y2  17.79915290740795\n",
            "Медіана\n",
            "x1  59.537318491494425\n",
            "y1  60.39142735545193\n",
            "x2  90.3619228379711\n",
            "y2  18.84247510148357\n"
          ]
        }
      ]
    }
  ]
}